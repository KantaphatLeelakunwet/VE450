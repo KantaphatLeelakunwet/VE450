{
 "cells": [
  {
   "cell_type": "code",
   "execution_count": 2,
   "metadata": {},
   "outputs": [],
   "source": [
    "import open3d as o3d\n",
    "import matplotlib.pyplot as plt"
   ]
  },
  {
   "cell_type": "code",
   "execution_count": null,
   "metadata": {},
   "outputs": [
    {
     "name": "stdout",
     "output_type": "stream",
     "text": [
      "c:\\Users\\sofia\\OneDrive\\Documentos\\SJTU\\10 . FALL SEM 2024\\ME450 Capstone\\code\\VE450\\DATA_TEST\n"
     ]
    }
   ],
   "source": [
    "import os\n",
    "path = os.getcwd() \n",
    "path = 'c:' + '\\\\' + 'Users\\sofia\\OneDrive\\Documentos\\SJTU\\\\10 . FALL SEM 2024\\ME450 Capstone\\code\\VE450\\DATA_TEST'\n",
    "print(path) # just change the path to the location of the DATA_TEST folder"
   ]
  },
  {
   "cell_type": "code",
   "execution_count": 5,
   "metadata": {},
   "outputs": [
    {
     "name": "stdout",
     "output_type": "stream",
     "text": [
      "[Open3D WARNING] [ViewControl] SetViewPoint() failed because window height and width are not set.\n"
     ]
    }
   ],
   "source": [
    "color_raw = o3d.io.read_image(\n",
    "    path + '\\Camera\\C0.png')\n",
    "depth_raw = o3d.io.read_image(\n",
    "    path + '\\Lidar\\L0.png')\n",
    "\n",
    "rgbd_image = o3d.geometry.RGBDImage.create_from_color_and_depth(\n",
    "    color_raw, depth_raw, depth_trunc=30.0 ,convert_rgb_to_intensity=False)\n",
    "\n",
    "pcd = o3d.geometry.PointCloud.create_from_rgbd_image(\n",
    "        rgbd_image,\n",
    "        o3d.camera.PinholeCameraIntrinsic(\n",
    "            o3d.camera.PinholeCameraIntrinsicParameters.PrimeSenseDefault\n",
    "        )\n",
    "    )\n",
    "\n",
    "pcd.transform([[1, 0, 0, 0], [0, -1, 0, 0], [0, 0, -1, 0], [0, 0, 0, 1]])\n",
    "o3d.visualization.draw_geometries(\n",
    "    [pcd],\n",
    "    width=2000,\n",
    "    height=1200,\n",
    "    point_show_normal=True,\n",
    "    mesh_show_wireframe=True,\n",
    "    mesh_show_back_face=True\n",
    ")\n"
   ]
  },
  {
   "cell_type": "code",
   "execution_count": 6,
   "metadata": {},
   "outputs": [],
   "source": [
    "vis  = o3d.visualization.Visualizer()\n",
    "vis.create_window()\n",
    "vis.add_geometry(pcd)\n",
    "i = 1 # image counter"
   ]
  },
  {
   "cell_type": "code",
   "execution_count": 6,
   "metadata": {},
   "outputs": [],
   "source": [
    "# plt.subplot(1, 2, 1)\n",
    "# plt.title('RGB image')\n",
    "# plt.imshow(rgbd_image.color)\n",
    "# plt.subplot(1, 2, 2)\n",
    "# plt.title('Depth image')\n",
    "# plt.imshow(rgbd_image.depth)\n",
    "# plt.show()"
   ]
  },
  {
   "cell_type": "markdown",
   "metadata": {},
   "source": [
    "## Kanta Try This below\n",
    "run the other cells above first ofc and change the path for the data"
   ]
  },
  {
   "cell_type": "code",
   "execution_count": null,
   "metadata": {},
   "outputs": [
    {
     "ename": "",
     "evalue": "",
     "output_type": "error",
     "traceback": [
      "\u001b[1;31mThe Kernel crashed while executing code in the current cell or a previous cell. \n",
      "\u001b[1;31mPlease review the code in the cell(s) to identify a possible cause of the failure. \n",
      "\u001b[1;31mClick <a href='https://aka.ms/vscodeJupyterKernelCrash'>here</a> for more info. \n",
      "\u001b[1;31mView Jupyter <a href='command:jupyter.viewOutput'>log</a> for further details."
     ]
    }
   ],
   "source": [
    "while((not color_raw.is_empty()) and (not depth_raw.is_empty())): \n",
    "\n",
    "    rgbd_image = o3d.geometry.RGBDImage.create_from_color_and_depth(\n",
    "    color_raw, depth_raw, depth_trunc=30.0 ,convert_rgb_to_intensity=False)\n",
    "    \n",
    "    pcd = o3d.geometry.PointCloud.create_from_rgbd_image(\n",
    "        rgbd_image,\n",
    "        o3d.camera.PinholeCameraIntrinsic(\n",
    "            o3d.camera.PinholeCameraIntrinsicParameters.PrimeSenseDefault\n",
    "        )\n",
    "    )\n",
    "    # Flip it, otherwise the pointcloud will be upside down\n",
    "    \n",
    "    # geometry.points = pcd.points\n",
    "    vis.update_geometry(pcd)\n",
    "    vis.poll_events()\n",
    "    vis.update_renderer()\n",
    "\n",
    "    # update image\n",
    "    i = i +1 \n",
    "    color_raw = o3d.io.read_image(\n",
    "    path + '\\Camera\\C' + str(i) + '.png')\n",
    "    depth_raw = o3d.io.read_image(\n",
    "    path + '\\Lidar\\L' + str(i) + '.png')\n",
    "    print(i)\n",
    "\n",
    "vis.destroy_window()"
   ]
  }
 ],
 "metadata": {
  "kernelspec": {
   "display_name": "ve450_vis",
   "language": "python",
   "name": "python3"
  },
  "language_info": {
   "codemirror_mode": {
    "name": "ipython",
    "version": 3
   },
   "file_extension": ".py",
   "mimetype": "text/x-python",
   "name": "python",
   "nbconvert_exporter": "python",
   "pygments_lexer": "ipython3",
   "version": "3.8.20"
  }
 },
 "nbformat": 4,
 "nbformat_minor": 2
}
